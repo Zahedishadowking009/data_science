{
 "cells": [
  {
   "cell_type": "code",
   "execution_count": 1,
   "id": "5518fd0c-830b-4de5-8297-aedda44fd3eb",
   "metadata": {},
   "outputs": [],
   "source": [
    "import pandas as pd\n",
    "import numpy as np \n",
    "import matplotlib.pyplot as plt\n"
   ]
  },
  {
   "cell_type": "code",
   "execution_count": 5,
   "id": "424bfb2d-d490-46b8-a615-429a5a3b245e",
   "metadata": {},
   "outputs": [],
   "source": [
    "df = pd.read_csv(\"sales_data.csv\", header=\"\")"
   ]
  },
  {
   "cell_type": "code",
   "execution_count": 6,
   "id": "d26db8b6-597f-4244-8483-b686aeb5ed9e",
   "metadata": {},
   "outputs": [
    {
     "data": {
      "text/html": [
       "<div>\n",
       "<style scoped>\n",
       "    .dataframe tbody tr th:only-of-type {\n",
       "        vertical-align: middle;\n",
       "    }\n",
       "\n",
       "    .dataframe tbody tr th {\n",
       "        vertical-align: top;\n",
       "    }\n",
       "\n",
       "    .dataframe thead th {\n",
       "        text-align: right;\n",
       "    }\n",
       "</style>\n",
       "<table border=\"1\" class=\"dataframe\">\n",
       "  <thead>\n",
       "    <tr style=\"text-align: right;\">\n",
       "      <th></th>\n",
       "      <th>InvoiceID</th>\n",
       "      <th>OrderDate</th>\n",
       "      <th>OrderTime</th>\n",
       "      <th>CustomerName</th>\n",
       "      <th>City</th>\n",
       "      <th>Category</th>\n",
       "      <th>ProductName</th>\n",
       "      <th>Quantity</th>\n",
       "      <th>UnitPrice</th>\n",
       "      <th>Discount</th>\n",
       "      <th>PaymentMethod</th>\n",
       "      <th>DeliveryStatus</th>\n",
       "    </tr>\n",
       "  </thead>\n",
       "  <tbody>\n",
       "    <tr>\n",
       "      <th>0</th>\n",
       "      <td>1001</td>\n",
       "      <td>2024-02-05</td>\n",
       "      <td>20:42</td>\n",
       "      <td>امین اکبری</td>\n",
       "      <td>تهران</td>\n",
       "      <td>ورزشی</td>\n",
       "      <td>کفش ورزشی</td>\n",
       "      <td>3</td>\n",
       "      <td>334094</td>\n",
       "      <td>20</td>\n",
       "      <td>در محل</td>\n",
       "      <td>لغو شده</td>\n",
       "    </tr>\n",
       "    <tr>\n",
       "      <th>1</th>\n",
       "      <td>1002</td>\n",
       "      <td>2024-03-08</td>\n",
       "      <td>11:38</td>\n",
       "      <td>زهرا سادات</td>\n",
       "      <td>رشت</td>\n",
       "      <td>ورزشی</td>\n",
       "      <td>طناب ورزشی</td>\n",
       "      <td>1</td>\n",
       "      <td>815567</td>\n",
       "      <td>15</td>\n",
       "      <td>کیف پول</td>\n",
       "      <td>ارسال‌شده</td>\n",
       "    </tr>\n",
       "    <tr>\n",
       "      <th>2</th>\n",
       "      <td>1003</td>\n",
       "      <td>2024-03-02</td>\n",
       "      <td>14:58</td>\n",
       "      <td>رضا احمدی</td>\n",
       "      <td>اهواز</td>\n",
       "      <td>الکترونیک</td>\n",
       "      <td>کیبورد</td>\n",
       "      <td>4</td>\n",
       "      <td>249889</td>\n",
       "      <td>15</td>\n",
       "      <td>آنلاین</td>\n",
       "      <td>در حال ارسال</td>\n",
       "    </tr>\n",
       "    <tr>\n",
       "      <th>3</th>\n",
       "      <td>1004</td>\n",
       "      <td>2024-01-06</td>\n",
       "      <td>21:59</td>\n",
       "      <td>محسن موسوی</td>\n",
       "      <td>رشت</td>\n",
       "      <td>ورزشی</td>\n",
       "      <td>طناب ورزشی</td>\n",
       "      <td>2</td>\n",
       "      <td>363485</td>\n",
       "      <td>10</td>\n",
       "      <td>کیف پول</td>\n",
       "      <td>ارسال‌شده</td>\n",
       "    </tr>\n",
       "    <tr>\n",
       "      <th>4</th>\n",
       "      <td>1005</td>\n",
       "      <td>2024-06-02</td>\n",
       "      <td>16:27</td>\n",
       "      <td>زهرا سادات</td>\n",
       "      <td>شیراز</td>\n",
       "      <td>تحریر</td>\n",
       "      <td>پاک‌کن</td>\n",
       "      <td>4</td>\n",
       "      <td>649042</td>\n",
       "      <td>10</td>\n",
       "      <td>آنلاین</td>\n",
       "      <td>در حال ارسال</td>\n",
       "    </tr>\n",
       "  </tbody>\n",
       "</table>\n",
       "</div>"
      ],
      "text/plain": [
       "   InvoiceID   OrderDate OrderTime CustomerName   City   Category ProductName  \\\n",
       "0       1001  2024-02-05     20:42   امین اکبری  تهران      ورزشی   کفش ورزشی   \n",
       "1       1002  2024-03-08     11:38   زهرا سادات    رشت      ورزشی  طناب ورزشی   \n",
       "2       1003  2024-03-02     14:58    رضا احمدی  اهواز  الکترونیک      کیبورد   \n",
       "3       1004  2024-01-06     21:59   محسن موسوی    رشت      ورزشی  طناب ورزشی   \n",
       "4       1005  2024-06-02     16:27   زهرا سادات  شیراز      تحریر      پاک‌کن   \n",
       "\n",
       "   Quantity  UnitPrice  Discount PaymentMethod DeliveryStatus  \n",
       "0         3     334094        20        در محل        لغو شده  \n",
       "1         1     815567        15       کیف پول      ارسال‌شده  \n",
       "2         4     249889        15        آنلاین   در حال ارسال  \n",
       "3         2     363485        10       کیف پول      ارسال‌شده  \n",
       "4         4     649042        10        آنلاین   در حال ارسال  "
      ]
     },
     "execution_count": 6,
     "metadata": {},
     "output_type": "execute_result"
    }
   ],
   "source": [
    "df.head()"
   ]
  },
  {
   "cell_type": "code",
   "execution_count": 8,
   "id": "c7d0589d-f871-48fa-8696-e7ed54ab7586",
   "metadata": {},
   "outputs": [
    {
     "data": {
      "text/plain": [
       "133863391.6"
      ]
     },
     "execution_count": 8,
     "metadata": {},
     "output_type": "execute_result"
    }
   ],
   "source": [
    "# calculation quantity price\n",
    "df[\"Total\"] = df[\"UnitPrice\"] * df[\"Quantity\"] * (1 - df[\"Discount\"] / 100)\n",
    "df[\"Total\"].sum()"
   ]
  },
  {
   "cell_type": "code",
   "execution_count": 10,
   "id": "6e5d208e-6baf-4f3c-b99b-40dbb01bab7b",
   "metadata": {},
   "outputs": [
    {
     "data": {
      "text/plain": [
       "month\n",
       "2024-01    21967452.20\n",
       "2024-02    23266677.75\n",
       "2024-03    27248128.10\n",
       "2024-04     8585526.55\n",
       "2024-05    27359236.00\n",
       "2024-06    25436371.00\n",
       "Freq: M, Name: Total, dtype: float64"
      ]
     },
     "execution_count": 10,
     "metadata": {},
     "output_type": "execute_result"
    }
   ],
   "source": [
    "#month sales \n",
    "df[\"month\"] = pd.to_datetime(df[\"OrderDate\"]).dt.to_period(\"M\")\n",
    "df.groupby(\"month\")[\"Total\"].sum()"
   ]
  },
  {
   "cell_type": "code",
   "execution_count": 11,
   "id": "99d65f76-8577-47c8-94d4-98329f77600e",
   "metadata": {},
   "outputs": [
    {
     "data": {
      "text/plain": [
       "CustomerName\n",
       "علی رضایی      23\n",
       "زهرا سادات     19\n",
       "نگار زمانی     17\n",
       "امین اکبری     15\n",
       "فاطمه یوسفی    14\n",
       "رضا احمدی      11\n",
       "محسن موسوی     11\n",
       "سارا مرادی     10\n",
       "Name: count, dtype: int64"
      ]
     },
     "execution_count": 11,
     "metadata": {},
     "output_type": "execute_result"
    }
   ],
   "source": [
    "#order of Each customer\n",
    "df[\"CustomerName\"].value_counts()"
   ]
  },
  {
   "cell_type": "code",
   "execution_count": 15,
   "id": "a5b26d3f-0e0f-4c51-b11b-b408a585eec3",
   "metadata": {},
   "outputs": [
    {
     "data": {
      "text/plain": [
       "DeliveryStatus\n",
       "ارسال‌شده       0.708333\n",
       "در حال ارسال    0.191667\n",
       "لغو شده         0.100000\n",
       "Name: proportion, dtype: float64"
      ]
     },
     "execution_count": 15,
     "metadata": {},
     "output_type": "execute_result"
    }
   ],
   "source": [
    "df[\"DeliveryStatus\"].value_counts(normalize=True)"
   ]
  },
  {
   "cell_type": "code",
   "execution_count": 16,
   "id": "798e771f-a2f9-471a-9ae6-e784fb2ce9df",
   "metadata": {},
   "outputs": [
    {
     "data": {
      "text/plain": [
       "PaymentMethod\n",
       "کیف پول    0.275000\n",
       "کارت       0.250000\n",
       "آنلاین     0.241667\n",
       "در محل     0.233333\n",
       "Name: proportion, dtype: float64"
      ]
     },
     "execution_count": 16,
     "metadata": {},
     "output_type": "execute_result"
    }
   ],
   "source": [
    "df[\"PaymentMethod\"].value_counts(normalize=True)"
   ]
  },
  {
   "cell_type": "code",
   "execution_count": null,
   "id": "f97f2038-edd9-43e2-94a1-e91a8202f94c",
   "metadata": {},
   "outputs": [],
   "source": []
  }
 ],
 "metadata": {
  "kernelspec": {
   "display_name": "Python 3 (ipykernel)",
   "language": "python",
   "name": "python3"
  },
  "language_info": {
   "codemirror_mode": {
    "name": "ipython",
    "version": 3
   },
   "file_extension": ".py",
   "mimetype": "text/x-python",
   "name": "python",
   "nbconvert_exporter": "python",
   "pygments_lexer": "ipython3",
   "version": "3.12.7"
  }
 },
 "nbformat": 4,
 "nbformat_minor": 5
}
